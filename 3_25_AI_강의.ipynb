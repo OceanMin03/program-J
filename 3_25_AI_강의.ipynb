{
  "nbformat": 4,
  "nbformat_minor": 0,
  "metadata": {
    "colab": {
      "provenance": [],
      "authorship_tag": "ABX9TyOstoIuG4fwRm+ZA6OB+Y1/",
      "include_colab_link": true
    },
    "kernelspec": {
      "name": "python3",
      "display_name": "Python 3"
    },
    "language_info": {
      "name": "python"
    }
  },
  "cells": [
    {
      "cell_type": "markdown",
      "metadata": {
        "id": "view-in-github",
        "colab_type": "text"
      },
      "source": [
        "<a href=\"https://colab.research.google.com/github/OceanMin03/program-J/blob/main/3_25_AI_%EA%B0%95%EC%9D%98.ipynb\" target=\"_parent\"><img src=\"https://colab.research.google.com/assets/colab-badge.svg\" alt=\"Open In Colab\"/></a>"
      ]
    },
    {
      "cell_type": "code",
      "execution_count": 3,
      "metadata": {
        "colab": {
          "base_uri": "https://localhost:8080/"
        },
        "id": "gv0jYpQVLzn-",
        "outputId": "b532f6a5-dac9-4047-87ef-9b26c8ca8e48"
      },
      "outputs": [
        {
          "output_type": "stream",
          "name": "stdout",
          "text": [
            "120\n"
          ]
        }
      ],
      "source": [
        "#재귀함수\n",
        "\n",
        "#코드 4-29\n",
        "def factorial(n):\n",
        "  if n <= 1 :\n",
        "    return 1\n",
        "  else:\n",
        "    return n*factorial(n-1)\n",
        "\n",
        "print(factorial(5))\n",
        "\n",
        "#for 문보다 더 빨리 흘러감"
      ]
    },
    {
      "cell_type": "code",
      "source": [
        "def factorial2(n):\n",
        "  tmp = 1\n",
        "  for i in range(n):\n",
        "    tmp *= (i+1)\n",
        "  return tmp\n",
        "\n",
        "print(factorial2(5))\n",
        "\n",
        "#시험에 나옴 #def, for 같이 써보기!!"
      ],
      "metadata": {
        "colab": {
          "base_uri": "https://localhost:8080/"
        },
        "id": "nBtsZ2eyNvau",
        "outputId": "b0de67f6-396b-463c-e667-7c549722cbc9"
      },
      "execution_count": 5,
      "outputs": [
        {
          "output_type": "stream",
          "name": "stdout",
          "text": [
            "120\n"
          ]
        }
      ]
    },
    {
      "cell_type": "code",
      "source": [
        "def fibonacci(n):\n",
        "  if n <= 1 :\n",
        "    return n\n",
        "  else:\n",
        "    return fibonacci(n-1)+fibonacci(n-2)\n",
        "\n",
        "print(fibonacci(7))"
      ],
      "metadata": {
        "colab": {
          "base_uri": "https://localhost:8080/"
        },
        "id": "eM3nK6hEOfc4",
        "outputId": "3f04ded6-1b7d-4869-dcab-7f74bf65ab0b"
      },
      "execution_count": 9,
      "outputs": [
        {
          "output_type": "stream",
          "name": "stdout",
          "text": [
            "13\n"
          ]
        }
      ]
    },
    {
      "cell_type": "code",
      "source": [
        "#입력함수와 출력함수 #input #int\n",
        "a_list = list(map(float,input(\"세 개의 숫자를 입력해 주세요 : \").split(',')))\n",
        "print(type(a_list))\n",
        "print(a_list)"
      ],
      "metadata": {
        "colab": {
          "base_uri": "https://localhost:8080/"
        },
        "id": "ttQjg5AGRGLo",
        "outputId": "5df37ab5-b132-4549-b2fa-6c2faa9c2a07"
      },
      "execution_count": 27,
      "outputs": [
        {
          "output_type": "stream",
          "name": "stdout",
          "text": [
            "세 개의 숫자를 입력해 주세요 : 1.23, 3.14, 4.26\n",
            "<class 'list'>\n",
            "[1.23, 3.14, 4.26]\n"
          ]
        }
      ]
    },
    {
      "cell_type": "code",
      "source": [
        "'1,2,3'.split(' , ')"
      ],
      "metadata": {
        "colab": {
          "base_uri": "https://localhost:8080/"
        },
        "id": "c_VGUJ-4Ul6a",
        "outputId": "010d14e7-6373-4a46-dea0-a78cc03c6ee8"
      },
      "execution_count": 37,
      "outputs": [
        {
          "output_type": "execute_result",
          "data": {
            "text/plain": [
              "['1,2,3']"
            ]
          },
          "metadata": {},
          "execution_count": 37
        }
      ]
    },
    {
      "cell_type": "code",
      "source": [
        "a = 'hello'\n",
        "b = a.upper()\n",
        "print(b)"
      ],
      "metadata": {
        "colab": {
          "base_uri": "https://localhost:8080/"
        },
        "id": "zZAwnGB6VjBf",
        "outputId": "f3283b21-4fd6-470a-c0d2-c01355178ca1"
      },
      "execution_count": 41,
      "outputs": [
        {
          "output_type": "stream",
          "name": "stdout",
          "text": [
            "HELLO\n"
          ]
        }
      ]
    },
    {
      "cell_type": "code",
      "source": [
        "'{} Test'.format(\"my\")"
      ],
      "metadata": {
        "colab": {
          "base_uri": "https://localhost:8080/",
          "height": 35
        },
        "id": "80CayaHtV39o",
        "outputId": "bb33918f-38c5-4859-eba1-06c2a6084c13"
      },
      "execution_count": 42,
      "outputs": [
        {
          "output_type": "execute_result",
          "data": {
            "text/plain": [
              "'my Test'"
            ],
            "application/vnd.google.colaboratory.intrinsic+json": {
              "type": "string"
            }
          },
          "metadata": {},
          "execution_count": 42
        }
      ]
    },
    {
      "cell_type": "code",
      "source": [
        "'{2} {0} {1} Test'.format(\"my\", 100,400)"
      ],
      "metadata": {
        "colab": {
          "base_uri": "https://localhost:8080/",
          "height": 35
        },
        "id": "E2VYGKnrWKX8",
        "outputId": "44baa0d3-c24a-4924-ef9d-3a07b589c127"
      },
      "execution_count": 43,
      "outputs": [
        {
          "output_type": "execute_result",
          "data": {
            "text/plain": [
              "'400 my 100 Test'"
            ],
            "application/vnd.google.colaboratory.intrinsic+json": {
              "type": "string"
            }
          },
          "metadata": {},
          "execution_count": 43
        }
      ]
    },
    {
      "cell_type": "code",
      "source": [
        "a = '{2:d} {0:s} {1:f} Test'.format(\"my\", 100,400)\n",
        "print(a)"
      ],
      "metadata": {
        "colab": {
          "base_uri": "https://localhost:8080/"
        },
        "id": "gF_zXZdZWbRD",
        "outputId": "5a59a89a-e2ab-4647-d438-bc2635c39512"
      },
      "execution_count": 47,
      "outputs": [
        {
          "output_type": "stream",
          "name": "stdout",
          "text": [
            "400 my 100.000000 Test\n"
          ]
        }
      ]
    },
    {
      "cell_type": "code",
      "source": [
        "for i in range(10):\n",
        "  a = '{} 번째 손님은 오늘의 {} 번째 손님입니다.'.format(i+1,i+101)\n",
        "  print(a)"
      ],
      "metadata": {
        "colab": {
          "base_uri": "https://localhost:8080/"
        },
        "id": "UQVQVFlLWr_I",
        "outputId": "7b0b5e85-fdae-442d-a1ac-26b45243826f"
      },
      "execution_count": 48,
      "outputs": [
        {
          "output_type": "stream",
          "name": "stdout",
          "text": [
            "1 번째 손님은 오늘의 101 번째 손님입니다.\n",
            "2 번째 손님은 오늘의 102 번째 손님입니다.\n",
            "3 번째 손님은 오늘의 103 번째 손님입니다.\n",
            "4 번째 손님은 오늘의 104 번째 손님입니다.\n",
            "5 번째 손님은 오늘의 105 번째 손님입니다.\n",
            "6 번째 손님은 오늘의 106 번째 손님입니다.\n",
            "7 번째 손님은 오늘의 107 번째 손님입니다.\n",
            "8 번째 손님은 오늘의 108 번째 손님입니다.\n",
            "9 번째 손님은 오늘의 109 번째 손님입니다.\n",
            "10 번째 손님은 오늘의 110 번째 손님입니다.\n"
          ]
        }
      ]
    },
    {
      "cell_type": "code",
      "source": [
        "#upper\n"
      ],
      "metadata": {
        "id": "kUYJNdn4XFP6"
      },
      "execution_count": 49,
      "outputs": []
    }
  ]
}